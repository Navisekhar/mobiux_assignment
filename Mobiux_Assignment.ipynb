{
  "nbformat": 4,
  "nbformat_minor": 0,
  "metadata": {
    "colab": {
      "provenance": [],
      "authorship_tag": "ABX9TyNw9fuDrfrXf5GWgY20wsNM",
      "include_colab_link": true
    },
    "kernelspec": {
      "name": "python3",
      "display_name": "Python 3"
    },
    "language_info": {
      "name": "python"
    }
  },
  "cells": [
    {
      "cell_type": "markdown",
      "metadata": {
        "id": "view-in-github",
        "colab_type": "text"
      },
      "source": [
        "<a href=\"https://colab.research.google.com/github/Navisekhar/mobiux_assignment/blob/main/Mobiux_Assignment.ipynb\" target=\"_parent\"><img src=\"https://colab.research.google.com/assets/colab-badge.svg\" alt=\"Open In Colab\"/></a>"
      ]
    },
    {
      "cell_type": "code",
      "source": [
        "import requests\n",
        "from collections import defaultdict\n",
        "\n",
        "url = 'https://mobiux.in/assignment/sales-data.txt'\n",
        "response = requests.get(url)\n",
        "\n",
        "if response.status_code == 200:\n",
        "    with open('sales_data.txt', 'w') as file:\n",
        "        file.write(response.text)\n",
        "else:\n",
        "    print(f\"Failed to download the file. HTTP Status Code: {response.status_code}\")\n",
        "\n",
        "sales_data = []\n",
        "with open('sales_data.txt', 'r') as file:\n",
        "    lines = file.readlines()[1:]\n",
        "    for line in lines:\n",
        "        date, sku, unit_price, quantity, total_price = line.strip().split(',')\n",
        "        sale = {\n",
        "            \"Date\": date,\n",
        "            \"SKU\": sku,\n",
        "            \"Unit Price\": int(unit_price),\n",
        "            \"Quantity\": int(quantity),\n",
        "            \"Total Price\": int(total_price)\n",
        "        }\n",
        "        sales_data.append(sale)\n",
        "\n",
        "monthly_sales = defaultdict(lambda: {\"total_sales\": 0, \"items_sold\": defaultdict(int), \"revenue\": defaultdict(int)})\n",
        "\n",
        "for sale in sales_data:\n",
        "    month = sale[\"Date\"].split('-')[1]\n",
        "    sku = sale[\"SKU\"]\n",
        "    quantity = sale[\"Quantity\"]\n",
        "    revenue = sale[\"Total Price\"]\n",
        "\n",
        "    monthly_sales[month][\"total_sales\"] += revenue\n",
        "    monthly_sales[month][\"items_sold\"][sku] += quantity\n",
        "    monthly_sales[month][\"revenue\"][sku] += revenue\n",
        "\n",
        "popular_items = {}\n",
        "revenue_items = {}\n",
        "order_stats = {}\n",
        "\n",
        "for month, data in monthly_sales.items():\n",
        "\n",
        "    most_popular_item = max(data[\"items_sold\"], key=data[\"items_sold\"].get)\n",
        "    most_revenue_item = max(data[\"revenue\"], key=data[\"revenue\"].get)\n",
        "\n",
        "    popular_items[month] = most_popular_item\n",
        "    revenue_items[month] = most_revenue_item\n",
        "\n",
        "    if most_popular_item not in order_stats:\n",
        "        order_stats[most_popular_item] = {\"min\": float('inf'), \"max\": 0, \"total\": 0, \"count\": 0}\n",
        "\n",
        "    quantity_sold = data[\"items_sold\"][most_popular_item]\n",
        "    stats = order_stats[most_popular_item]\n",
        "    stats[\"min\"] = min(stats[\"min\"], quantity_sold)\n",
        "    stats[\"max\"] = max(stats[\"max\"], quantity_sold)\n",
        "    stats[\"total\"] += quantity_sold\n",
        "    stats[\"count\"] += 1\n",
        "\n",
        "for item, stats in order_stats.items():\n",
        "    stats[\"avg\"] = stats[\"total\"] / stats[\"count\"]\n",
        "\n",
        "total_sales = sum(data[\"total_sales\"] for data in monthly_sales.values())\n",
        "print(\"Total sales of the store:\", total_sales)\n",
        "\n",
        "print(\"\\nMonth-wise sales totals:\")\n",
        "for month, data in monthly_sales.items():\n",
        "    print(f\"Month {month}: Total Sales = {data['total_sales']}\")\n",
        "\n",
        "print(\"\\nMost popular item in each month:\")\n",
        "for month, item in popular_items.items():\n",
        "    print(f\"Month {month}: {item}\")\n",
        "\n",
        "print(\"\\nItems generating most revenue in each month:\")\n",
        "for month, item in revenue_items.items():\n",
        "    print(f\"Month {month}: {item}\")\n",
        "\n",
        "print(\"\\nMin, Max, and Avg orders for most popular items:\")\n",
        "for item, stats in order_stats.items():\n",
        "    print(f\"{item}: Min Orders = {stats['min']}, Max Orders = {stats['max']}, Avg Orders = {stats['avg']:.2f}\")\n"
      ],
      "metadata": {
        "colab": {
          "base_uri": "https://localhost:8080/"
        },
        "id": "LC8Ih7HfODbv",
        "outputId": "42aa22d7-faf1-4bba-edcb-282160d18a88"
      },
      "execution_count": null,
      "outputs": [
        {
          "output_type": "stream",
          "name": "stdout",
          "text": [
            "Total sales of the store: 4583270\n",
            "\n",
            "Month-wise sales totals:\n",
            "Month 01: Total Sales = 1421330\n",
            "Month 02: Total Sales = 1422350\n",
            "Month 03: Total Sales = 1739590\n",
            "\n",
            "Most popular item in each month:\n",
            "Month 01: Hot Chocolate Fudge\n",
            "Month 02: Hot Chocolate Fudge\n",
            "Month 03: Hot Chocolate Fudge\n",
            "\n",
            "Items generating most revenue in each month:\n",
            "Month 01: Hot Chocolate Fudge\n",
            "Month 02: Hot Chocolate Fudge\n",
            "Month 03: Hot Chocolate Fudge\n",
            "\n",
            "Min, Max, and Avg orders for most popular items:\n",
            "Hot Chocolate Fudge: Min Orders = 2636, Max Orders = 3100, Avg Orders = 2803.00\n"
          ]
        }
      ]
    }
  ]
}